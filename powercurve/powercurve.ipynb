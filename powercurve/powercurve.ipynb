{
 "cells": [
  {
   "cell_type": "code",
   "execution_count": null,
   "metadata": {},
   "outputs": [],
   "source": [
    "%load_ext autoreload\n",
    "%autoreload 2"
   ]
  },
  {
   "cell_type": "markdown",
   "metadata": {},
   "source": [
    "# Code from here"
   ]
  },
  {
   "cell_type": "code",
   "execution_count": null,
   "metadata": {},
   "outputs": [],
   "source": [
    "from prometheus import Prometheus\n",
    "p = Prometheus(\"http://192.168.42.60:9090\")"
   ]
  },
  {
   "cell_type": "code",
   "execution_count": null,
   "metadata": {},
   "outputs": [],
   "source": [
    "METRIC_QUERIES = [\n",
    "    (\"Power Usage in Watts\", \"node_ipmi_power_watts\"), \n",
    "    (\"CPU Load\", \"\"\"node_load1 / scalar(count(node_cpu{mode=\"guest\"})) * 100\"\"\"),\n",
    "    (\"Avg Temp in Celsius\", \"avg(node_hwmon_temp_celsius{chip=~'platform_coretemp.*'})\"),\n",
    "    (\"Avg CPU Frequency in GHz\", \"avg(node_cpu_frequency_hertz) / 1000000000\"),\n",
    "]"
   ]
  },
  {
   "cell_type": "code",
   "execution_count": null,
   "metadata": {
    "scrolled": false
   },
   "outputs": [],
   "source": [
    "for (metric, query) in METRIC_QUERIES:\n",
    "    print(f\"Plot(s) for: '{metric}'\")\n",
    "    p.plot_metric(query, start_time=1542805320, end_time=1542806280, step_seconds=15)"
   ]
  }
 ],
 "metadata": {
  "kernelspec": {
   "display_name": "Python 3",
   "language": "python",
   "name": "python3"
  },
  "language_info": {
   "codemirror_mode": {
    "name": "ipython",
    "version": 3
   },
   "file_extension": ".py",
   "mimetype": "text/x-python",
   "name": "python",
   "nbconvert_exporter": "python",
   "pygments_lexer": "ipython3",
   "version": "3.7.0"
  }
 },
 "nbformat": 4,
 "nbformat_minor": 2
}
